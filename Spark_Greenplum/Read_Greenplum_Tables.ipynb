{
 "cells": [
  {
   "cell_type": "markdown",
   "metadata": {},
   "source": [
    "### Authors: \n",
    "Gautam Muralidhar and Addison Huddy\n",
    "\n",
    "#### In this notebook, we will demonstrate how we can have Spark connect to a table in Greenplum/HAWQ via JDBC. This is joint work with Addison Huddy at Pivotal.\n",
    "\n",
    "#### First, download the JDBC driver from: https://jdbc.postgresql.org/download/postgresql-9.4.1208.jre7.jar\n",
    "\n",
    "#### To run this notebook (assuming Spark has been installed), type the following command on your terminal:\n",
    "\n",
    "###### PYSPARK_DRIVER_PYTHON=ipython PYSPARK_DRIVER_PYTHON_OPTS=\"notebook\" pyspark --conf spark.executor.extraClassPath=[Path_To_Jar]/postgresql-9.4.1208.jre7.jar --driver-class-path [Path_To_Jar]/postgresql-9.4.1208.jre7.jar --jars [Path_To_Jar]/postgresql-9.4.1208.jre7.jar"
   ]
  },
  {
   "cell_type": "markdown",
   "metadata": {},
   "source": [
    "#### Connect to a Greenplum table called x in schema mcmc"
   ]
  },
  {
   "cell_type": "code",
   "execution_count": 13,
   "metadata": {
    "collapsed": false
   },
   "outputs": [],
   "source": [
    "# insert actual values in place of <hostname>, <port>, <database>,<user>,<password>\n",
    "df = sqlContext.read.format('jdbc').options(\n",
    "        url='jdbc:postgresql://192.168.9.132:5432/gautamdb?user=gpadmin&password=changeme',\n",
    "        dbtable='ml.data'\n",
    "    ).load()"
   ]
  },
  {
   "cell_type": "code",
   "execution_count": 7,
   "metadata": {
    "collapsed": false
   },
   "outputs": [
    {
     "name": "stdout",
     "output_type": "stream",
     "text": [
      "<class 'pyspark.sql.dataframe.DataFrame'>\n"
     ]
    }
   ],
   "source": [
    "print type(df)"
   ]
  },
  {
   "cell_type": "code",
   "execution_count": 8,
   "metadata": {
    "collapsed": false
   },
   "outputs": [
    {
     "name": "stdout",
     "output_type": "stream",
     "text": [
      "8525\n"
     ]
    }
   ],
   "source": [
    "print df.count()"
   ]
  },
  {
   "cell_type": "code",
   "execution_count": 9,
   "metadata": {
    "collapsed": false
   },
   "outputs": [
    {
     "name": "stdout",
     "output_type": "stream",
     "text": [
      "['id', 'features']\n"
     ]
    }
   ],
   "source": [
    "print df.columns"
   ]
  },
  {
   "cell_type": "code",
   "execution_count": 10,
   "metadata": {
    "collapsed": false
   },
   "outputs": [
    {
     "data": {
      "text/plain": [
       "[Row(id=114, features=[1.0, 0.8542012691362776, 0.35757317956218587, 1.6796398175126313, 0.1758138625464541, -0.05421764879898933, -1.2021331121377776, 0.15021216247534191, 0.18434230279971803, -0.3009290323191074, -0.6674401338399354]),\n",
       " Row(id=116, features=[1.0, 1.6903108771927398, 2.474034339134153, 1.0148798618814714, -0.4798349468186024, 0.6195512375149846, -0.81008319702781, 0.5496378284461123, 0.8524506903720427, -1.6365093690387418, 0.6861654642788864]),\n",
       " Row(id=118, features=[1.0, 0.6334382847589567, -0.9096142314281396, 0.3501199062503116, -0.4798349468186024, -0.05421764879898933, -0.4180332819178424, 1.7479148263584237, 1.2482698474331932, 0.8173929752517985, 1.8332109476775698]),\n",
       " Row(id=120, features=[1.0, 0.3765451574743224, -2.547451336473875, -0.9794000050120081, -1.1354837561836588, -0.7279865351129633, 1.1501663785220282, 0.9490634944168828, 0.20748524192075696, -0.7876162425431816, -0.6277065780912311]),\n",
       " Row(id=122, features=[1.0, -0.406498488201236, -0.3706463570892065, 0.3501199062503116, -1.1354837561836588, -0.7279865351129633, -1.2021331121377776, 2.147340492329194, -0.13335013965924508, -0.7555777134380437, 2.078519053656115])]"
      ]
     },
     "execution_count": 10,
     "metadata": {},
     "output_type": "execute_result"
    }
   ],
   "source": [
    "df.head(5)"
   ]
  },
  {
   "cell_type": "code",
   "execution_count": null,
   "metadata": {
    "collapsed": true
   },
   "outputs": [],
   "source": []
  }
 ],
 "metadata": {
  "kernelspec": {
   "display_name": "Python 2",
   "language": "python",
   "name": "python2"
  },
  "language_info": {
   "codemirror_mode": {
    "name": "ipython",
    "version": 2
   },
   "file_extension": ".py",
   "mimetype": "text/x-python",
   "name": "python",
   "nbconvert_exporter": "python",
   "pygments_lexer": "ipython2",
   "version": "2.7.11"
  }
 },
 "nbformat": 4,
 "nbformat_minor": 0
}
