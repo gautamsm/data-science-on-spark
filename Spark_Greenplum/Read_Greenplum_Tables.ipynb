{
 "cells": [
  {
   "cell_type": "markdown",
   "metadata": {},
   "source": [
    "#### In this notebook, we will demonstrate how we can have Spark connect to a table in Greenplum/HAWQ via JDBC. This is joint work with Addison Huddy at Pivotal.\n",
    "\n",
    "#### First, download the JDBC driver from: https://jdbc.postgresql.org/download/postgresql-9.4.1208.jre7.jar\n",
    "\n",
    "#### To run this notebook (assuming Spark has been installed), type the following command on your terminal:\n",
    "\n",
    "###### PYSPARK_DRIVER_PYTHON=ipython PYSPARK_DRIVER_PYTHON_OPTS=\"notebook\" pyspark --conf spark.executor.extraClassPath=[Path_To_Jar]/postgresql-9.4.1208.jre7.jar --driver-class-path [Path_To_Jar]/postgresql-9.4.1208.jre7.jar --jars [Path_To_Jar]/postgresql-9.4.1208.jre7.jar"
   ]
  },
  {
   "cell_type": "markdown",
   "metadata": {},
   "source": [
    "#### Connect to a Greenplum table called x in schema mcmc"
   ]
  },
  {
   "cell_type": "code",
   "execution_count": 1,
   "metadata": {
    "collapsed": false
   },
   "outputs": [],
   "source": [
    "# insert actual values in place of <hostname>, <port>, <database>,<user>,<password>\n",
    "df = sqlContext.read.format('jdbc').options(\n",
    "        url='jdbc:postgresql://<hostname>:<port>/gautamdb?user=<username>&password=<password>',\n",
    "        dbtable='mcmc.x'\n",
    "    ).load()"
   ]
  },
  {
   "cell_type": "code",
   "execution_count": 2,
   "metadata": {
    "collapsed": false
   },
   "outputs": [
    {
     "name": "stdout",
     "output_type": "stream",
     "text": [
      "<class 'pyspark.sql.dataframe.DataFrame'>\n"
     ]
    }
   ],
   "source": [
    "print type(df)"
   ]
  },
  {
   "cell_type": "code",
   "execution_count": 3,
   "metadata": {
    "collapsed": false
   },
   "outputs": [
    {
     "name": "stdout",
     "output_type": "stream",
     "text": [
      "8525\n"
     ]
    }
   ],
   "source": [
    "print df.count()"
   ]
  },
  {
   "cell_type": "code",
   "execution_count": 4,
   "metadata": {
    "collapsed": false
   },
   "outputs": [
    {
     "name": "stdout",
     "output_type": "stream",
     "text": [
      "['rowid', 'row_vec']\n"
     ]
    }
   ],
   "source": [
    "print df.columns"
   ]
  },
  {
   "cell_type": "code",
   "execution_count": 5,
   "metadata": {
    "collapsed": false
   },
   "outputs": [
    {
     "data": {
      "text/plain": [
       "[Row(rowid=1, row_vec=[1.0, -0.24025474438879513, -0.5722403662363336, -0.9794000050120081, -1.1354837561836588, -2.7492931940548853, -1.2021331121377776, -1.44749050140774, 0.15374968634759467, 2.2304545177781616, -0.7413105472783524]),\n",
       " Row(rowid=3, row_vec=[1.0, -1.4484599904308177, -0.31375298054333867, -1.644159960643168, -1.1354837561836588, -2.7492931940548853, -1.2021331121377776, -1.44749050140774, 0.6400391577277051, -0.664796281275295, 0.11168330691268982]),\n",
       " Row(rowid=5, row_vec=[1.0, -0.6652186587377215, -0.5025769092283182, -0.9794000050120081, -1.1354837561836588, -2.075524307740911, -0.4180332819178424, -1.44749050140774, 0.767474584402987, 0.5445884777549862, -1.5624512613414854]),\n",
       " Row(rowid=7, row_vec=[1.0, -1.8263698390672845, -0.5614063423960443, -0.3146400493808483, -1.7911325655487154, -2.075524307740911, -1.2021331121377776, -1.44749050140774, 0.5684656403479711, 0.43098735568611396, 0.6471162241947911]),\n",
       " Row(rowid=9, row_vec=[1.0, 0.29514986669728865, 1.095549614476735, -2.308919916274328, -1.7911325655487154, -2.7492931940548853, 0.7581164634120605, -1.44749050140774, 1.166822652867671, 0.8624402282152394, 1.6512532470645065])]"
      ]
     },
     "execution_count": 5,
     "metadata": {},
     "output_type": "execute_result"
    }
   ],
   "source": [
    "df.head(5)"
   ]
  }
 ],
 "metadata": {
  "kernelspec": {
   "display_name": "Python 2",
   "language": "python",
   "name": "python2"
  },
  "language_info": {
   "codemirror_mode": {
    "name": "ipython",
    "version": 2
   },
   "file_extension": ".py",
   "mimetype": "text/x-python",
   "name": "python",
   "nbconvert_exporter": "python",
   "pygments_lexer": "ipython2",
   "version": "2.7.11"
  }
 },
 "nbformat": 4,
 "nbformat_minor": 0
}
